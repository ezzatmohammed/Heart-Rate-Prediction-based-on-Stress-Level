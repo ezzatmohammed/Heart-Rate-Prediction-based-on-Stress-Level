{
 "cells": [
  {
   "cell_type": "markdown",
   "id": "caa9b501",
   "metadata": {},
   "source": [
    "## about Dataset\n",
    " heart rate can be used to monitor your stress levels and keep it under check as it is a useful indicator of good health.\n",
    "The data comprises various attributes taken from signals measured using ECG recorded for different individuals having different heart rates at the time the measurement was taken. These various features contribute to the heart rate at the given instant of time for the individual."
   ]
  },
  {
   "cell_type": "raw",
   "id": "77bdcf5f",
   "metadata": {},
   "source": [
    "Following is the data dictionary for the features you will come across in the files mentioned:\n",
    "MEAN_RR - Mean of RR intervals\n",
    "MEDIAN_RR - Median of RR intervals\n",
    "SDRR - Standard deviation of RR intervals\n",
    "RMSSD - Root mean square of successive RR interval differences\n",
    "SDSD - Standard deviation of successive RR interval differences\n",
    "SDRR_RMSSD - Ratio of SDRR / RMSSD\n",
    "pNN25 - Percentage of successive RR intervals that differ by more than 25 ms\n",
    "pNN50 - Percentage of successive RR intervals that differ by more than 50 ms\n",
    "KURT - Kurtosis of distribution of successive RR intervals\n",
    "SKEW - Skew of distribution of successive RR intervals\n",
    "MEAN_REL_RR - Mean of relative RR intervals\n",
    "MEDIAN_REL_RR - Median of relative RR intervals\n",
    "SDRR_REL_RR - Standard deviation of relative RR intervals\n",
    "RMSSD_REL_RR - Root mean square of successive relative RR interval differences\n",
    "SDSD_REL_RR - Standard deviation of successive relative RR interval differences\n",
    "SDRR_RMSSD_REL_RR - Ratio of SDRR/RMSSD for relative RR interval differences\n",
    "KURT_REL_RR - Kurtosis of distribution of relative RR intervals\n",
    "SKEW_REL_RR - Skewness of distribution of relative RR intervals\n",
    "uuid - Unique ID for each patient\n",
    "VLF - Absolute power of the very low frequency band (0.0033 - 0.04 Hz)\n",
    "VLF_PCT - Principal component transform of VLF\n",
    "LF - Absolute power of the low frequency band (0.04 - 0.15 Hz)\n",
    "LF_PCT - Principal component transform of LF\n",
    "LF_NU - Absolute power of the low frequency band in normal units\n",
    "HF - Absolute power of the high frequency band (0.15 - 0.4 Hz)\n",
    "HF_PCT - Principal component transform of HF\n",
    "HF_NU - Absolute power of the highest frequency band in normal units\n",
    "TP - Total power of RR intervals\n",
    "LF_HF - Ratio of LF to HF\n",
    "HF_LF - Ratio of HF to LF\n",
    "SD1 - Poincaré plot standard deviation perpendicular to the line of identity\n",
    "SD2 - Poincaré plot standard deviation along the line of identity\n",
    "Sampen - sample entropy which measures the regularity and complexity of a time series\n",
    "higuci - higuci fractal dimension of heartrate\n",
    "datasetId - ID of the whole dataset\n",
    "condition - condition of the patient at the time the data was recorded\n",
    "HR - Heart rate of the patient at the time of data recorded"
   ]
  },
  {
   "cell_type": "markdown",
   "id": "21ca813c",
   "metadata": {},
   "source": [
    "## Objective\n",
    "The objective is to build a regressor model which can predict the heart rate of an individual. This prediction can help to monitor stress levels of the individual."
   ]
  },
  {
   "cell_type": "code",
   "execution_count": 1,
   "id": "b34a0bda",
   "metadata": {},
   "outputs": [],
   "source": [
    "import pandas as pd"
   ]
  },
  {
   "cell_type": "code",
   "execution_count": 2,
   "id": "5a6a1314",
   "metadata": {},
   "outputs": [],
   "source": [
    "#read data set\n",
    "df10=pd.read_csv(\"frequency_domain_features_train.csv\")\n",
    "df20=pd.read_csv(\"heart_rate_non_linear_features_train.csv\")\n",
    "df30=pd.read_csv(\"time_domain_features_train.csv\")"
   ]
  },
  {
   "cell_type": "code",
   "execution_count": 6,
   "id": "c3bfe400",
   "metadata": {},
   "outputs": [],
   "source": [
    "#merge all train data frame\n",
    "df40=pd.merge(df10, df20, on='uuid')\n",
    "train_df=pd.merge(df30, df40, on='uuid')"
   ]
  },
  {
   "cell_type": "code",
   "execution_count": 14,
   "id": "1f111016",
   "metadata": {
    "scrolled": true
   },
   "outputs": [],
   "source": [
    "df1=train_df[:30000]\n",
    "\n",
    "df2=train_df[50000:60000]\n",
    "\n",
    "df3=train_df[100000:110000]\n",
    "\n",
    "df4=train_df[150000:160000]\n",
    "\n",
    "df5=train_df[200000:210000]\n",
    "\n",
    "df6=train_df[250000:260000]\n",
    "\n",
    "df7=train_df[300000:310000]\n",
    "\n",
    "df8=train_df[350000:360000]"
   ]
  },
  {
   "cell_type": "code",
   "execution_count": 15,
   "id": "9b81e1bf",
   "metadata": {},
   "outputs": [],
   "source": [
    "frames = [df1, df2, df3,df4,df5,df6,df7,df8]\n",
    "\n",
    "train_df0 = pd.concat(frames)"
   ]
  },
  {
   "cell_type": "code",
   "execution_count": 17,
   "id": "576ab052",
   "metadata": {},
   "outputs": [],
   "source": [
    "train_df0.to_csv(\"data_set.csv\",index=False)"
   ]
  },
  {
   "cell_type": "code",
   "execution_count": null,
   "id": "22537066",
   "metadata": {},
   "outputs": [],
   "source": []
  },
  {
   "cell_type": "code",
   "execution_count": null,
   "id": "1b6e7850",
   "metadata": {},
   "outputs": [],
   "source": []
  }
 ],
 "metadata": {
  "kernelspec": {
   "display_name": "Python 3 (ipykernel)",
   "language": "python",
   "name": "python3"
  },
  "language_info": {
   "codemirror_mode": {
    "name": "ipython",
    "version": 3
   },
   "file_extension": ".py",
   "mimetype": "text/x-python",
   "name": "python",
   "nbconvert_exporter": "python",
   "pygments_lexer": "ipython3",
   "version": "3.11.3"
  }
 },
 "nbformat": 4,
 "nbformat_minor": 5
}
